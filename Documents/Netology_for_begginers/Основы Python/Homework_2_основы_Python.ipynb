{
 "cells": [
  {
   "cell_type": "markdown",
   "metadata": {},
   "source": [
    "## Задание 1 \n",
    "\n",
    "Даны 2 переменных, в которых хранятся строки произвольной длины: phrase_1 и phrase_2.\n",
    "Напишите код, который проверяет какая из этих строк длиннее."
   ]
  },
  {
   "cell_type": "code",
   "execution_count": 32,
   "metadata": {},
   "outputs": [
    {
     "name": "stdout",
     "output_type": "stream",
     "text": [
      "Фраза 1 длиннее фразы 2\n"
     ]
    }
   ],
   "source": [
    "phrase_1 = \"Мело, мело по всей земле во все пределы\"\n",
    "phrase_2 = \"Свеча горела на столе, свеча горела\"\n",
    "\n",
    "if len(phrase_1) > len(phrase_2): \n",
    "    print(\"Фраза 1 длиннее фразы 2\")\n",
    "else:\n",
    "    print(\"Фраза 2 длиннее фразы 1\")"
   ]
  },
  {
   "cell_type": "markdown",
   "metadata": {},
   "source": [
    "## Задание 2 \n",
    "\n",
    "Дана переменная, в которой хранится четырехзначное число (год). Необходимо написать программу, которая выведет, является ли данный год високосным или обычным."
   ]
  },
  {
   "cell_type": "code",
   "execution_count": 34,
   "metadata": {},
   "outputs": [
    {
     "name": "stdout",
     "output_type": "stream",
     "text": [
      "Високосный год\n"
     ]
    }
   ],
   "source": [
    "year = 2020 \n",
    "\n",
    "if (year % 4 == 0 and year % 100 != 0) or year % 400 == 0: \n",
    "    print(\"Високосный год\")\n",
    "else: \n",
    "    print(\"Обычный год\")"
   ]
  },
  {
   "cell_type": "markdown",
   "metadata": {},
   "source": [
    "или "
   ]
  },
  {
   "cell_type": "code",
   "execution_count": 19,
   "metadata": {},
   "outputs": [
    {
     "name": "stdout",
     "output_type": "stream",
     "text": [
      "Введите год: 2019\n",
      "2019 - обычный год\n"
     ]
    }
   ],
   "source": [
    "year = int(input (\"Введите год: \"))\n",
    "\n",
    "if year % 4 == 0: \n",
    "    print(year, \"- високосный год\")\n",
    "else: \n",
    "    print(year, \"- обычный год\")"
   ]
  },
  {
   "cell_type": "markdown",
   "metadata": {},
   "source": [
    "## Задание 3\n",
    "\n",
    "Необходимо написать программу, которая будет запрашивать у пользователя месяц и дату рождения и выводить соответствующий знак зодиака."
   ]
  },
  {
   "cell_type": "code",
   "execution_count": 52,
   "metadata": {},
   "outputs": [
    {
     "name": "stdout",
     "output_type": "stream",
     "text": [
      "Введите день рождения: 7 \n",
      "Введите месяц рождения: октябрь\n",
      "Ваш знак зодиака – Весы\n"
     ]
    }
   ],
   "source": [
    "day = int(input (\"Введите день рождения: \"))\n",
    "month = input (\"Введите месяц рождения: \")\n",
    "\n",
    "if (day >=21 and day <=31 and month == \"март\") or (day >=1 and day <=20 and month == \"апрель\"):\n",
    "    print(\"Ваш знак зодиака – Овен\")\n",
    "elif (day >=21 and day <=30 and month == \"апрель\") or (day >=1 and day <=20 and month == \"май\"):\n",
    "    print(\"Ваш знак зодиака – Телец\")\n",
    "elif (day >=21 and day <=31 and month == \"май\") or (day >=1 and day <=20 and month == \"июнь\"):\n",
    "    print(\"Ваш знак зодиака – Близнецы\")\n",
    "elif (day >=21 and day <=30 and month == \"июнь\") or (day >=1 and day <=22 and month == \"июль\"):\n",
    "    print(\"Ваш знак зодиака – Рак\")\n",
    "elif (day >=23 and day <=31 and month == \"июль\") or (day >=1 and day <=22 and month == \"август\"):\n",
    "    print(\"Ваш знак зодиака – Лев\")\n",
    "elif (day >=23 and day <=31 and month == \"август\") or (day >=1 and day <=23 and month == \"сентябрь\"):\n",
    "    print(\"Ваш знак зодиака – Дева\")\n",
    "elif (day >=24 and day <=30 and month == \"сентябрь\") or (day >=1 and day <=23 and month == \"октябрь\"):\n",
    "    print(\"Ваш знак зодиака – Весы\")\n",
    "elif (day >=24 and day <=31 and month == \"октябрь\") or (day >=1 and day <=21 and month == \"ноябрь\"):\n",
    "    print(\"Ваш знак зодиака – Скорпион\")\n",
    "elif (day >=22 and day <=30 and month == \"ноябрь\") or (day >=1 and day <=21 and month == \"декабрь\"):\n",
    "    print(\"Ваш знак зодиака – Стрелец\")\n",
    "elif (day >=22 and day <=31 and month == \"декабрь\") or (day >=1 and day <=19 and month == \"январь\"):\n",
    "    print(\"Ваш знак зодиака – Козерог\")\n",
    "elif (day >=20 and day <=31 and month == \"январь\") or (day >=1 and day <=18 and month == \"февраль\"):\n",
    "    print(\"Ваш знак зодиака – Водолей\")\n",
    "elif (day >=19 and day <=29 and month == \"февраль\") or (day >=1 and day <=20 and month == \"март\"):\n",
    "    print(\"Ваш знак зодиака – Рыбы\")"
   ]
  },
  {
   "cell_type": "markdown",
   "metadata": {},
   "source": [
    "## Задание 4\n",
    "\n",
    "Вам нужно написать программу для подбора упаковок по размерам товара. Размеры хранятся в переменных (в сантиметрах). \n",
    "\n",
    "Используйте следующие правила:\n",
    "\n",
    "- если каждое из трех измерений менее 15 сантиметров, то выведите на экран \"Коробка №1\";\n",
    "- если хотя бы одно из измерений больше 15 сантиметров, но менее 50 сантиметров, то выводите \"Коробка №2\";\n",
    "- если длина товара больше 2 метров, то выводите \"Упаковка для лыж\";\n",
    "- во всех остальных случаях выводите \"Стандартная коробка №3\"."
   ]
  },
  {
   "cell_type": "code",
   "execution_count": 41,
   "metadata": {},
   "outputs": [
    {
     "name": "stdout",
     "output_type": "stream",
     "text": [
      "Коробка №2\n"
     ]
    }
   ],
   "source": [
    "width = 10\n",
    "length = 123\n",
    "height = 45\n",
    "\n",
    "if width < 15 and length < 15 and height < 15:\n",
    "    print(\"Коробка №1\")\n",
    "elif length >= 200: \n",
    "    print(\"Коробка для лыж\")\n",
    "elif (width > 15 and width < 50) or (length > 15 and length < 50) or (height > 15 and height < 50):\n",
    "    print(\"Коробка №2\")\n",
    "else:\n",
    "    print(\"Коробка №3\")"
   ]
  },
  {
   "cell_type": "markdown",
   "metadata": {},
   "source": [
    "## Задание 5\n",
    "\n",
    "Дана переменная, в которой хранится шестизначное число (номер проездного билета). Напишите программу, которая будет определять, является ли данный билет \"счастливым\". Билет считается счастливым, если сумма первых трех цифр совпадает с суммой последних трех цифр номера."
   ]
  },
  {
   "cell_type": "code",
   "execution_count": 14,
   "metadata": {},
   "outputs": [
    {
     "name": "stdout",
     "output_type": "stream",
     "text": [
      "123321\n",
      "Счастливый билет\n"
     ]
    }
   ],
   "source": [
    "t = list(map(int, input()))\n",
    "\n",
    "if t[0] + t[1] + t[2] == t[3] + t[4] + t[5]:\n",
    "    print(\"Счастливый билет\")\n",
    "else:\n",
    "    print(\"Несчастливый билет\")"
   ]
  },
  {
   "cell_type": "markdown",
   "metadata": {},
   "source": [
    "## Задание 6 \n",
    "\n",
    "Напишите программу, которая сможет вычислять площади трех фигур (круг, треугольник и прямоугольник). Тип фигуры запрашиваем через пользовательский ввод, после чего делаем запрос характеристик фигуры:\n",
    "\n",
    "- если пользователь выбрал круг, запрашиваем его радиус,\n",
    "- если треугольник – длины трех его сторон;\n",
    "- если прямоугольник – длины двух его сторон."
   ]
  },
  {
   "cell_type": "code",
   "execution_count": 31,
   "metadata": {},
   "outputs": [
    {
     "name": "stdout",
     "output_type": "stream",
     "text": [
      "Введите тип фигуры: прямоугольник\n",
      "Введите длину стороны А: 4\n",
      "Введите длину стороны В: 20\n",
      "80\n"
     ]
    }
   ],
   "source": [
    "figure = input(\"Введите тип фигуры: \")\n",
    "\n",
    "if figure == \"круг\":\n",
    "    A = int(input(\"Введите радиус круга: \"))\n",
    "    print(2 * 3.14159 * A)\n",
    "elif figure == \"треугольник\":\n",
    "    B = int(input(\"Введите длину стороны А: \"))\n",
    "    C = int(input(\"Введите длину стороны В: \"))\n",
    "    D = int(input(\"Введите длину стороны С: \"))\n",
    "    print((B + C + D)/2)\n",
    "elif figure == \"прямоугольник\":\n",
    "    E = int(input(\"Введите длину стороны А: \"))\n",
    "    F = int(input(\"Введите длину стороны В: \"))\n",
    "    print(E * F)"
   ]
  },
  {
   "cell_type": "code",
   "execution_count": null,
   "metadata": {},
   "outputs": [],
   "source": []
  }
 ],
 "metadata": {
  "kernelspec": {
   "display_name": "Python 3",
   "language": "python",
   "name": "python3"
  },
  "language_info": {
   "codemirror_mode": {
    "name": "ipython",
    "version": 3
   },
   "file_extension": ".py",
   "mimetype": "text/x-python",
   "name": "python",
   "nbconvert_exporter": "python",
   "pygments_lexer": "ipython3",
   "version": "3.7.4"
  }
 },
 "nbformat": 4,
 "nbformat_minor": 2
}
