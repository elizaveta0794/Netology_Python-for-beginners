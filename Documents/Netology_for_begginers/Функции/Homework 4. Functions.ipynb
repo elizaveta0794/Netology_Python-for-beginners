{
 "cells": [
  {
   "cell_type": "markdown",
   "metadata": {},
   "source": [
    "## Задание 1\n",
    "\n",
    "Вам нужно помочь секретарю автоматизировать работу. Для этого нужно написать программу, которая будет на основе хранимых данных исполнять пользовательские команды.\n",
    "Исходные данные имеют следующую структуру:\n",
    "перечень всех документов\n",
    "\n",
    "documents = [\n",
    " {'type': 'passport', 'number': '2207 876234', 'name': 'Василий Гупкин'},\n",
    " {'type': 'invoice', 'number': '11-2', 'name': 'Геннадий Покемонов'},\n",
    " {'type': 'insurance', 'number': '10006', 'name': 'Аристарх Павлов'}\n",
    "]\n",
    "\n",
    "перечень полок, на которых хранятся документы (если документ есть в documents, то он обязательно должен быть и в directories)\n",
    "\n",
    "directories = {\n",
    " '1': ['2207 876234', '11-2'],\n",
    " '2': ['10006'],\n",
    " '3': []\n",
    "}\n",
    "\n",
    "Общие требования к программе:\n",
    "- код должен быть грамотно декомпозирован (каждая функция отвечает за свою конкретную задачу, дублирующийся функционал переиспользуется, а его код не повторяется);\n",
    "- в коде отсутствуют глобальные переменные (за исключением documents и directories);\n",
    "- пользовательский ввод обрабатывается в цикле while до тех пор, пока пользователь явно не завершит программу (вводом команды \"q\")."
   ]
  },
  {
   "cell_type": "markdown",
   "metadata": {},
   "source": [
    "## Пункт 1 \n",
    "\n",
    "Примеры работы:\n",
    "\n",
    "1.\n",
    "Введите команду:\n",
    "p\n",
    "\n",
    "Введите номер документа:\n",
    "10006\n",
    "\n",
    "Результат:\n",
    "Владелец документа: Аристарх Павлов\n",
    "\n",
    "2.\n",
    "Введите команду:\n",
    "p\n",
    "\n",
    "Введите номер документа:\n",
    "12345\n",
    "\n",
    "Результат:\n",
    "Документ не найден в базе\n"
   ]
  },
  {
   "cell_type": "code",
   "execution_count": 1,
   "metadata": {},
   "outputs": [],
   "source": [
    "documents = [\n",
    " {'type': 'passport', 'number': '2207 876234', 'name': 'Василий Гупкин'},\n",
    " {'type': 'invoice', 'number': '11-2', 'name': 'Геннадий Покемонов'},\n",
    " {'type': 'insurance', 'number': '10006', 'name': 'Аристарх Павлов'}\n",
    "]"
   ]
  },
  {
   "cell_type": "code",
   "execution_count": 2,
   "metadata": {},
   "outputs": [],
   "source": [
    "directories = {\n",
    " '1': ['2207 876234', '11-2'],\n",
    " '2': ['10006'],\n",
    " '3': []\n",
    "}\n"
   ]
  },
  {
   "cell_type": "code",
   "execution_count": 3,
   "metadata": {},
   "outputs": [],
   "source": [
    "def owner(): \n",
    "    user_input2 = input(\"Введите номер документа: \")\n",
    "    \n",
    "    for item in documents:\n",
    "        if str(user_input2) == item[\"number\"]:\n",
    "            result = \"Владелец документа: \" + item[\"name\"]\n",
    "            break \n",
    "        else:\n",
    "            result = \"Документ не найден в базе\"\n",
    "    return result\n",
    "            \n",
    "    \n",
    "    "
   ]
  },
  {
   "cell_type": "markdown",
   "metadata": {},
   "source": [
    "## Пункт 2\n",
    "\n",
    "Пользователь по команде \"s\" может по номеру документа узнать на какой полке он хранится\n",
    "\n",
    "Примеры работы:\n",
    "\n",
    "1.\n",
    "Введите команду:\n",
    "s\n",
    "\n",
    "\n",
    "Введите номер документа:\n",
    "10006\n",
    "\n",
    "Результат:\n",
    "Документ хранится на полке: 2\n",
    "\n",
    "2.\n",
    "Введите команду:\n",
    "p\n",
    "\n",
    "Введите номер документа:\n",
    "12345\n",
    "\n",
    "Результат:\n",
    "Документ не найден в базе"
   ]
  },
  {
   "cell_type": "code",
   "execution_count": 4,
   "metadata": {},
   "outputs": [],
   "source": [
    "def shelf():\n",
    "    user_input2 = input(\"Введите номер документа: \")\n",
    "    \n",
    "    for k, v in directories.items():\n",
    "        if str(user_input2) in v:\n",
    "            result = \"Документ хранится на полке: \" + str(k)\n",
    "            break \n",
    "        else:\n",
    "            result = \"Документ не найден в базе\"\n",
    "    return result\n"
   ]
  },
  {
   "cell_type": "markdown",
   "metadata": {},
   "source": [
    "## Пункт 3. Пользователь по команде \"l\" может увидеть полную информацию по всем документам\n",
    "\n",
    "Пример работы:\n",
    "\n",
    "Введите команду: l\n",
    "\n",
    "Результат:\n",
    "\n",
    "№: 2207 876234, тип: passport, владелец: Василий Гупкин, полка хранения: 1\n",
    "\n",
    "№: 11-2, тип: invoice, владелец: Геннадий Покемонов, полка хранения: 1\n",
    "\n",
    "№: 10006, тип: insurance, владелец: Аристарх Павлов, полка хранения: 2"
   ]
  },
  {
   "cell_type": "code",
   "execution_count": 22,
   "metadata": {},
   "outputs": [],
   "source": [
    "def whole():\n",
    "\n",
    "    s = ''\n",
    "    for item in documents:\n",
    "        docs = \"№\" + item[\"number\"] + \", \" + \"тип: \" + item[\"type\"] + \", \" + \"владелец: \" + item[\"name\"]\n",
    "        for k, v in directories.items():\n",
    "            if item[\"number\"] in v: \n",
    "                direct = docs + \", полка хранения: \" + str(k)\n",
    "                s += direct+'\\n'\n",
    "\n",
    "\n",
    "    return s.strip()            "
   ]
  },
  {
   "cell_type": "markdown",
   "metadata": {},
   "source": [
    "## Пункт 4. Пользователь по команде \"ads\" может добавить новую полку\n",
    "Примеры работы:\n",
    "\n",
    "1. Введите команду: ads\n",
    "\n",
    "Введите номер полки: 10\n",
    "\n",
    "Результат:\n",
    "\n",
    "Полка добавлена. \n",
    "\n",
    "Текущий перечень полок: 1, 2, 3, 10.\n",
    "\n",
    "2. Введите команду: ads\n",
    "\n",
    "Введите номер полки: 1\n",
    "\n",
    "Результат:\n",
    "Такая полка уже существует. \n",
    "\n",
    "Текущий перечень полок: 1, 2, 3."
   ]
  },
  {
   "cell_type": "code",
   "execution_count": 6,
   "metadata": {},
   "outputs": [],
   "source": [
    "def addshelf():\n",
    "    user_input3 = input(\"Введите номер полки: \")\n",
    "    \n",
    "    if user_input3 in directories.keys():\n",
    "        result = \"Такая полка уже существует. \" + \"\\n\" + \"Текущий перечень полок: \" + (','.join(directories.keys()))\n",
    "    \n",
    "    else:\n",
    "        directories[str(user_input3)] = []\n",
    "        result = \"Полка добавлена. \" + \"\\n\" + \"Текущий перечень полок: \" + (','.join(directories.keys()))\n",
    "    \n",
    "    return result\n",
    "\n"
   ]
  },
  {
   "cell_type": "markdown",
   "metadata": {},
   "source": [
    "## Пункт 5. Пользователь по команде \"ds\" может удалить существующую полку из данных (только если она пустая)\n",
    "Примеры работы:\n",
    "\n",
    "1. Введите команду: ds\n",
    "\n",
    "Введите номер полки: 3\n",
    "\n",
    "Результат:  Полка удалена. Текущий перечень полок: 1, 2.\n",
    "\n",
    "2. Введите команду: ds\n",
    "\n",
    "Введите номер полки: 1\n",
    "\n",
    "Результат: На полке есть документа, удалите их перед удалением полки. Текущий перечень полок: 1, 2, 3.\n",
    "\n",
    "3. Введите команду: ds\n",
    "\n",
    "Введите номер полки: 4\n",
    "\n",
    "Результат: Такой полки не существует. Текущий перечень полок: 1, 2, 3."
   ]
  },
  {
   "cell_type": "code",
   "execution_count": 7,
   "metadata": {},
   "outputs": [],
   "source": [
    "def delshelf():\n",
    "    user_input4 = input(\"Введите номер полки: \")\n",
    "    \n",
    "    for k, v in directories.items():\n",
    "        if user_input4 in k and v != []:\n",
    "            result = \"На полке есть документы, удалите их перед удалением полки. \" + \"\\n\" + \"Текущий перечень полок: \" + (','.join(directories.keys()))\n",
    "            break\n",
    "        elif user_input4 in k and v == []:\n",
    "            del(directories[user_input4])\n",
    "            result = \"Полка удалена. \" + \"\\n\" + \"Текущий перечень полок: \" + (','.join(directories.keys()))\n",
    "            break \n",
    "        else: \n",
    "            result = \"Такой полки не существует. \" + \"\\n\" + \"Текущий перечень полок: \" + (','.join(directories.keys()))\n",
    "    return result \n",
    "    "
   ]
  },
  {
   "cell_type": "code",
   "execution_count": 34,
   "metadata": {},
   "outputs": [],
   "source": [
    "def main():\n",
    "    quit_task = 'q'\n",
    "    global result\n",
    "    while True:\n",
    "        task_input = input('Введите команду ')\n",
    "        if task_input == quit_task:\n",
    "            break\n",
    "        else:\n",
    "            if task_input == 'p':\n",
    "                print(owner()) \n",
    "            if task_input == 's':\n",
    "                print(shelf()) \n",
    "            if task_input == 'l':\n",
    "                print(whole()) \n",
    "            if task_input == 'ads':\n",
    "                print(addshelf()) \n",
    "            if task_input == 'ds':\n",
    "                print(delshelf()) "
   ]
  },
  {
   "cell_type": "code",
   "execution_count": null,
   "metadata": {},
   "outputs": [],
   "source": [
    "main()"
   ]
  },
  {
   "cell_type": "code",
   "execution_count": null,
   "metadata": {},
   "outputs": [],
   "source": []
  },
  {
   "cell_type": "code",
   "execution_count": null,
   "metadata": {},
   "outputs": [],
   "source": []
  },
  {
   "cell_type": "code",
   "execution_count": null,
   "metadata": {},
   "outputs": [],
   "source": []
  }
 ],
 "metadata": {
  "kernelspec": {
   "display_name": "Python 3",
   "language": "python",
   "name": "python3"
  },
  "language_info": {
   "codemirror_mode": {
    "name": "ipython",
    "version": 3
   },
   "file_extension": ".py",
   "mimetype": "text/x-python",
   "name": "python",
   "nbconvert_exporter": "python",
   "pygments_lexer": "ipython3",
   "version": "3.7.4"
  }
 },
 "nbformat": 4,
 "nbformat_minor": 2
}
